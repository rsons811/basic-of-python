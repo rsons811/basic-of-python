{
 "cells": [
  {
   "cell_type": "code",
   "execution_count": 1,
   "id": "0f1fd8e5-85d1-43e1-95d8-410e8275c654",
   "metadata": {},
   "outputs": [
    {
     "name": "stdout",
     "output_type": "stream",
     "text": [
      "jai shree ram\n"
     ]
    }
   ],
   "source": [
    "print('jai shree ram')"
   ]
  },
  {
   "cell_type": "code",
   "execution_count": 2,
   "id": "4f1f174b-c94c-42ba-8417-28c3d31cf6b3",
   "metadata": {},
   "outputs": [
    {
     "name": "stdout",
     "output_type": "stream",
     "text": [
      "rahul rajput here\n"
     ]
    }
   ],
   "source": [
    "print('rahul rajput here')"
   ]
  },
  {
   "cell_type": "code",
   "execution_count": 3,
   "id": "64a91397-f045-4f9f-af05-b9a6e2779078",
   "metadata": {},
   "outputs": [
    {
     "name": "stdout",
     "output_type": "stream",
     "text": [
      "hello world\n"
     ]
    }
   ],
   "source": [
    "print('hello world')"
   ]
  },
  {
   "cell_type": "code",
   "execution_count": 4,
   "id": "580c7170-57b1-4442-b619-3b6c503ac08f",
   "metadata": {},
   "outputs": [
    {
     "name": "stdout",
     "output_type": "stream",
     "text": [
      "hello python\n"
     ]
    }
   ],
   "source": [
    "print('hello python')"
   ]
  },
  {
   "cell_type": "markdown",
   "id": "f9673322-0aa0-4971-a484-525e0c5df327",
   "metadata": {},
   "source": [
    "|tpoic name|table of content|\n",
    "|:-:|:-:|\n",
    "|python code|basic python code|\n",
    "|----|interger|\n",
    "|----|float|\n",
    "|----|converting from one object type to a different|\n",
    "|----|boolean data type|\n",
    "|----|negative indexing|\n",
    "|----|slicing|\n",
    "|----|stride|\n",
    "|----|concatenate string|\n",
    "|----|escape sequence|\n",
    "|----|string manipulatiuon|\n",
    "|----|expression|\n",
    "|----|variable|"
   ]
  },
  {
   "cell_type": "code",
   "execution_count": 7,
   "id": "b88f1315-7427-42cb-989f-8de5280a6277",
   "metadata": {},
   "outputs": [
    {
     "data": {
      "text/html": [
       "<style>\n",
       "table{float:left}\n",
       "</style>\n"
      ],
      "text/plain": [
       "<IPython.core.display.HTML object>"
      ]
     },
     "metadata": {},
     "output_type": "display_data"
    }
   ],
   "source": [
    "%%html\n",
    "<style>\n",
    "table{float:left}\n",
    "</style>"
   ]
  },
  {
   "cell_type": "code",
   "execution_count": 8,
   "id": "ae587720-c858-486f-aa46-369f16a97438",
   "metadata": {},
   "outputs": [
    {
     "name": "stdout",
     "output_type": "stream",
     "text": [
      "3.12.4 (tags/v3.12.4:8e8a4ba, Jun  6 2024, 19:30:16) [MSC v.1940 64 bit (AMD64)]\n"
     ]
    }
   ],
   "source": [
    "import sys\n",
    "print(sys.version)"
   ]
  },
  {
   "cell_type": "code",
   "execution_count": 10,
   "id": "a8257a9f-bf80-4151-bda1-15bdefc2dbd6",
   "metadata": {},
   "outputs": [
    {
     "data": {
      "text/plain": [
       "int"
      ]
     },
     "execution_count": 10,
     "metadata": {},
     "output_type": "execute_result"
    }
   ],
   "source": [
    "type(12)"
   ]
  },
  {
   "cell_type": "code",
   "execution_count": 11,
   "id": "b5d8db66-a639-423a-be14-45d1297c5252",
   "metadata": {},
   "outputs": [
    {
     "data": {
      "text/plain": [
       "float"
      ]
     },
     "execution_count": 11,
     "metadata": {},
     "output_type": "execute_result"
    }
   ],
   "source": [
    "type(12.66)"
   ]
  },
  {
   "cell_type": "code",
   "execution_count": 12,
   "id": "d656040e-bc78-4fa6-b110-63237feb9aa9",
   "metadata": {},
   "outputs": [
    {
     "data": {
      "text/plain": [
       "float"
      ]
     },
     "execution_count": 12,
     "metadata": {},
     "output_type": "execute_result"
    }
   ],
   "source": [
    "type(12.0)"
   ]
  },
  {
   "cell_type": "code",
   "execution_count": 13,
   "id": "9f41fb5b-03fb-493c-bc23-4fe0920a8832",
   "metadata": {},
   "outputs": [
    {
     "data": {
      "text/plain": [
       "int"
      ]
     },
     "execution_count": 13,
     "metadata": {},
     "output_type": "execute_result"
    }
   ],
   "source": [
    "type(-1)"
   ]
  },
  {
   "cell_type": "code",
   "execution_count": 14,
   "id": "a7550a86-bb6b-4b0c-80af-cc3db8b20cf1",
   "metadata": {},
   "outputs": [
    {
     "data": {
      "text/plain": [
       "int"
      ]
     },
     "execution_count": 14,
     "metadata": {},
     "output_type": "execute_result"
    }
   ],
   "source": [
    "type(0)"
   ]
  },
  {
   "cell_type": "code",
   "execution_count": 15,
   "id": "05e2fa83-0bb5-4fce-baa8-8402598aa4f1",
   "metadata": {},
   "outputs": [
    {
     "data": {
      "text/plain": [
       "sys.float_info(max=1.7976931348623157e+308, max_exp=1024, max_10_exp=308, min=2.2250738585072014e-308, min_exp=-1021, min_10_exp=-307, dig=15, mant_dig=53, epsilon=2.220446049250313e-16, radix=2, rounds=1)"
      ]
     },
     "execution_count": 15,
     "metadata": {},
     "output_type": "execute_result"
    }
   ],
   "source": [
    "import sys\n",
    "sys.float_info"
   ]
  },
  {
   "cell_type": "markdown",
   "id": "48108ad0-0147-45d1-a202-2046d0344ef9",
   "metadata": {},
   "source": [
    "# converting float in to interger"
   ]
  },
  {
   "cell_type": "code",
   "execution_count": 21,
   "id": "632ad449-105f-4308-a52e-78c379ace5d2",
   "metadata": {},
   "outputs": [
    {
     "data": {
      "text/plain": [
       "int"
      ]
     },
     "execution_count": 21,
     "metadata": {},
     "output_type": "execute_result"
    }
   ],
   "source": [
    "int(2.2)\n",
    "type(int(2.2))"
   ]
  },
  {
   "cell_type": "markdown",
   "id": "72a431a0-637c-43bf-b66e-ee5e464b0da4",
   "metadata": {},
   "source": [
    "# converting integer in to float"
   ]
  },
  {
   "cell_type": "code",
   "execution_count": 26,
   "id": "40a5bd42-50d1-4ab5-97d0-9a652cc061a8",
   "metadata": {},
   "outputs": [
    {
     "data": {
      "text/plain": [
       "float"
      ]
     },
     "execution_count": 26,
     "metadata": {},
     "output_type": "execute_result"
    }
   ],
   "source": [
    "float(6)\n",
    "type(float(6))"
   ]
  },
  {
   "cell_type": "markdown",
   "id": "bf65daa0-9bdd-4514-a445-db6fe9708b64",
   "metadata": {},
   "source": [
    "# converting from string to integer or flot"
   ]
  },
  {
   "cell_type": "code",
   "execution_count": 28,
   "id": "e23d5947-14f8-421b-bd87-be5f2f155f25",
   "metadata": {},
   "outputs": [
    {
     "data": {
      "text/plain": [
       "1"
      ]
     },
     "execution_count": 28,
     "metadata": {},
     "output_type": "execute_result"
    }
   ],
   "source": [
    "int('1')"
   ]
  },
  {
   "cell_type": "code",
   "execution_count": 30,
   "id": "e35f658f-f406-4740-a385-7db9a0d384e8",
   "metadata": {},
   "outputs": [
    {
     "data": {
      "text/plain": [
       "1.2"
      ]
     },
     "execution_count": 30,
     "metadata": {},
     "output_type": "execute_result"
    }
   ],
   "source": [
    "float('1.2')"
   ]
  },
  {
   "cell_type": "markdown",
   "id": "5470e1cb-bccd-4d06-879b-cc5ea1a7a25b",
   "metadata": {},
   "source": [
    "# converting number to strings"
   ]
  },
  {
   "cell_type": "code",
   "execution_count": 31,
   "id": "6938a53b-4581-4d48-b0bf-023c946777e0",
   "metadata": {},
   "outputs": [
    {
     "data": {
      "text/plain": [
       "'2'"
      ]
     },
     "execution_count": 31,
     "metadata": {},
     "output_type": "execute_result"
    }
   ],
   "source": [
    "str(2)"
   ]
  },
  {
   "cell_type": "code",
   "execution_count": 32,
   "id": "7ff189e7-4fac-4c69-9788-396995333832",
   "metadata": {},
   "outputs": [
    {
     "data": {
      "text/plain": [
       "'12.2'"
      ]
     },
     "execution_count": 32,
     "metadata": {},
     "output_type": "execute_result"
    }
   ],
   "source": [
    "str(12.2)"
   ]
  },
  {
   "cell_type": "markdown",
   "id": "53960397-ba27-448e-bdd3-a759c3e61e1c",
   "metadata": {},
   "source": [
    "## boolean data type"
   ]
  },
  {
   "cell_type": "code",
   "execution_count": 34,
   "id": "c54ba8a5-4d7d-46e4-8c45-15d542281d6d",
   "metadata": {},
   "outputs": [
    {
     "data": {
      "text/plain": [
       "bool"
      ]
     },
     "execution_count": 34,
     "metadata": {},
     "output_type": "execute_result"
    }
   ],
   "source": [
    "type(True)"
   ]
  },
  {
   "cell_type": "code",
   "execution_count": 35,
   "id": "5d56a8db-07ba-432a-9516-3789db991fe9",
   "metadata": {},
   "outputs": [
    {
     "data": {
      "text/plain": [
       "bool"
      ]
     },
     "execution_count": 35,
     "metadata": {},
     "output_type": "execute_result"
    }
   ],
   "source": [
    "type(False)"
   ]
  },
  {
   "cell_type": "markdown",
   "id": "e62dafa5-3a14-4440-957b-558ee0eb0af5",
   "metadata": {},
   "source": [
    "### We can cast boolean objects to other data types. If we cast a boolean with a value of True to an integer or float we will get a one. If we cast a boolean with a value of False to an integer or float we will get a zero. Similarly, if we cast a 1 to a Boolean, you get a True. And if we cast a 0 to a Boolean we will get a False. Let's give it a try:"
   ]
  },
  {
   "cell_type": "markdown",
   "id": "75f2a4b6-e570-4091-b82e-f6e437337a90",
   "metadata": {},
   "source": [
    "## convert true in to int or flaot"
   ]
  },
  {
   "cell_type": "code",
   "execution_count": 36,
   "id": "3c0c0a51-2d0b-43d3-8e79-b369dd82039e",
   "metadata": {},
   "outputs": [
    {
     "data": {
      "text/plain": [
       "1"
      ]
     },
     "execution_count": 36,
     "metadata": {},
     "output_type": "execute_result"
    }
   ],
   "source": [
    "int(True)"
   ]
  },
  {
   "cell_type": "code",
   "execution_count": 40,
   "id": "86cca5d2-c7bb-4e56-823a-7a287bbc2e99",
   "metadata": {},
   "outputs": [
    {
     "data": {
      "text/plain": [
       "1.0"
      ]
     },
     "execution_count": 40,
     "metadata": {},
     "output_type": "execute_result"
    }
   ],
   "source": [
    "float(True)"
   ]
  },
  {
   "cell_type": "code",
   "execution_count": 41,
   "id": "406a42bb-d063-47dc-84eb-b696d18cb798",
   "metadata": {},
   "outputs": [
    {
     "data": {
      "text/plain": [
       "0"
      ]
     },
     "execution_count": 41,
     "metadata": {},
     "output_type": "execute_result"
    }
   ],
   "source": [
    "int(False)"
   ]
  },
  {
   "cell_type": "code",
   "execution_count": 42,
   "id": "2b9bdef8-dc4d-491b-b0d7-82349e621fa7",
   "metadata": {},
   "outputs": [
    {
     "data": {
      "text/plain": [
       "0.0"
      ]
     },
     "execution_count": 42,
     "metadata": {},
     "output_type": "execute_result"
    }
   ],
   "source": [
    "float(False)"
   ]
  },
  {
   "cell_type": "markdown",
   "id": "f133d39c-b8be-436e-a150-14eb4f0b41ef",
   "metadata": {},
   "source": [
    "## convert 1 to boolean"
   ]
  },
  {
   "cell_type": "code",
   "execution_count": 37,
   "id": "aa50d479-bca3-48d8-8fc6-1ea98aade929",
   "metadata": {},
   "outputs": [
    {
     "data": {
      "text/plain": [
       "True"
      ]
     },
     "execution_count": 37,
     "metadata": {},
     "output_type": "execute_result"
    }
   ],
   "source": [
    "bool(1)"
   ]
  },
  {
   "cell_type": "markdown",
   "id": "a5d44471-b4f6-4668-8ef7-5a02c9b2a6c0",
   "metadata": {},
   "source": [
    "## convert 0 to boolean"
   ]
  },
  {
   "cell_type": "code",
   "execution_count": 38,
   "id": "cfb2a8a2-1f3b-48f5-9cb8-c5bd9d4c5d99",
   "metadata": {},
   "outputs": [
    {
     "data": {
      "text/plain": [
       "False"
      ]
     },
     "execution_count": 38,
     "metadata": {},
     "output_type": "execute_result"
    }
   ],
   "source": [
    "bool(0)"
   ]
  },
  {
   "cell_type": "markdown",
   "id": "68be8670-fab7-43eb-ba70-fe0391563999",
   "metadata": {},
   "source": [
    "# Exercise: Types"
   ]
  },
  {
   "cell_type": "markdown",
   "id": "f0d69bad-27ba-45b0-be3e-c5eb3007bdb1",
   "metadata": {},
   "source": [
    "## What is the data type of the result of: 6 / 2?"
   ]
  },
  {
   "cell_type": "code",
   "execution_count": 48,
   "id": "e5450a06-fb2c-42c3-ac89-bcf7bbffc6de",
   "metadata": {},
   "outputs": [
    {
     "data": {
      "text/plain": [
       "float"
      ]
     },
     "execution_count": 48,
     "metadata": {},
     "output_type": "execute_result"
    }
   ],
   "source": [
    "type(6/2)"
   ]
  },
  {
   "cell_type": "markdown",
   "id": "cdad9e9b-495d-4f91-abf6-a671b8724309",
   "metadata": {},
   "source": [
    "## What is the type of the result of: 6 // 2?"
   ]
  },
  {
   "cell_type": "code",
   "execution_count": 49,
   "id": "5889f3e5-8c8b-430a-81a4-384b6f6f3dae",
   "metadata": {},
   "outputs": [
    {
     "data": {
      "text/plain": [
       "int"
      ]
     },
     "execution_count": 49,
     "metadata": {},
     "output_type": "execute_result"
    }
   ],
   "source": [
    "type(6//2)"
   ]
  },
  {
   "cell_type": "markdown",
   "id": "1918abc4-4a45-4677-ad66-fa236bf6c966",
   "metadata": {},
   "source": [
    "## What is the type of the result of: \"Hello, World!\""
   ]
  },
  {
   "cell_type": "code",
   "execution_count": 51,
   "id": "ce23ff86-e3e7-45b5-9145-4884381ffa89",
   "metadata": {},
   "outputs": [
    {
     "data": {
      "text/plain": [
       "str"
      ]
     },
     "execution_count": 51,
     "metadata": {},
     "output_type": "execute_result"
    }
   ],
   "source": [
    "type(\"hello,world!\")"
   ]
  },
  {
   "cell_type": "markdown",
   "id": "15ef5ac9-141a-4140-9855-bf44e6b14b0a",
   "metadata": {},
   "source": [
    "## What is the type of the result of: \"hello\" == \"world\""
   ]
  },
  {
   "cell_type": "code",
   "execution_count": 53,
   "id": "9be86bf2-2bde-45a8-aaa1-7a38980972f6",
   "metadata": {},
   "outputs": [
    {
     "data": {
      "text/plain": [
       "bool"
      ]
     },
     "execution_count": 53,
     "metadata": {},
     "output_type": "execute_result"
    }
   ],
   "source": [
    "type(\"hello\" == \"world\")"
   ]
  },
  {
   "cell_type": "markdown",
   "id": "59e82f79-ca01-43f7-8834-9fbb4d555977",
   "metadata": {},
   "source": [
    "## Write the code to convert the following number representing employeeid \"1001\" to an integer"
   ]
  },
  {
   "cell_type": "code",
   "execution_count": 54,
   "id": "5fe3f859-725c-495b-8d09-81360aab8057",
   "metadata": {},
   "outputs": [
    {
     "data": {
      "text/plain": [
       "1001"
      ]
     },
     "execution_count": 54,
     "metadata": {},
     "output_type": "execute_result"
    }
   ],
   "source": [
    "int(\"1001\")"
   ]
  },
  {
   "cell_type": "markdown",
   "id": "d7ba9e97-3320-45b9-9372-2483696d3dc4",
   "metadata": {},
   "source": [
    "## Write the code to convert this number representing financial value \"1234.56\" to a floating point number"
   ]
  },
  {
   "cell_type": "code",
   "execution_count": 55,
   "id": "2aca2807-5116-4fba-aa9b-a11aea4143c7",
   "metadata": {},
   "outputs": [
    {
     "data": {
      "text/plain": [
       "1234.56"
      ]
     },
     "execution_count": 55,
     "metadata": {},
     "output_type": "execute_result"
    }
   ],
   "source": [
    "float(\"1234.56\")"
   ]
  },
  {
   "cell_type": "markdown",
   "id": "cd2d06cf-43e0-4316-b8b6-b6354887b1a7",
   "metadata": {},
   "source": [
    "## Write the code to convert this phone number 123-456-7890 to a string"
   ]
  },
  {
   "cell_type": "code",
   "execution_count": 56,
   "id": "f47e858f-15b5-4d81-8935-cb4ea95974d6",
   "metadata": {},
   "outputs": [
    {
     "data": {
      "text/plain": [
       "'123-456-7890'"
      ]
     },
     "execution_count": 56,
     "metadata": {},
     "output_type": "execute_result"
    }
   ],
   "source": [
    "str('123-456-7890')"
   ]
  },
  {
   "cell_type": "markdown",
   "id": "0afad186-2214-45e8-ad42-6c476bb36092",
   "metadata": {},
   "source": [
    "# What are Strings?\n",
    "  - __Use quotation marks for defining string (doubble or single quotation amd number and special cha__\n",
    "    ___\"Michael Jackson\" or 'Michael Jackson'or '1 2 3 4 5 6 ' or '@#2_#]&*^%$'___\n"
   ]
  },
  {
   "cell_type": "code",
   "execution_count": 91,
   "id": "a39a8f4d-9116-4203-9097-9521c3b915e8",
   "metadata": {},
   "outputs": [],
   "source": [
    "my_string= \"micheal jakson\""
   ]
  },
  {
   "cell_type": "code",
   "execution_count": 92,
   "id": "f0e6939b-bea4-451a-9486-355276997091",
   "metadata": {},
   "outputs": [
    {
     "name": "stdout",
     "output_type": "stream",
     "text": [
      "micheal jakson!\n"
     ]
    }
   ],
   "source": [
    "name= my_string+\"!\"\n",
    "print(name)"
   ]
  },
  {
   "cell_type": "code",
   "execution_count": 99,
   "id": "93192c58-bfbf-45e0-a818-30dd4d58df72",
   "metadata": {},
   "outputs": [
    {
     "name": "stdout",
     "output_type": "stream",
     "text": [
      "m\n"
     ]
    }
   ],
   "source": [
    "print(name[-0])"
   ]
  },
  {
   "cell_type": "code",
   "execution_count": 95,
   "id": "8e1e7c9e-408a-42d2-9c19-c9fd71ec8133",
   "metadata": {},
   "outputs": [
    {
     "name": "stdout",
     "output_type": "stream",
     "text": [
      "l\n"
     ]
    }
   ],
   "source": [
    "print(name[6])"
   ]
  },
  {
   "cell_type": "code",
   "execution_count": 101,
   "id": "d065bbb1-5ca0-4235-b0b5-d4d029749635",
   "metadata": {},
   "outputs": [
    {
     "name": "stdout",
     "output_type": "stream",
     "text": [
      "!\n"
     ]
    }
   ],
   "source": [
    "print(name[-1])"
   ]
  },
  {
   "cell_type": "markdown",
   "id": "8b4b2327-854f-470d-add8-f26e8790b40c",
   "metadata": {},
   "source": [
    "# length of the string"
   ]
  },
  {
   "cell_type": "code",
   "execution_count": 102,
   "id": "ab8d2fd6-2f40-4a75-918c-7709b4eb62a9",
   "metadata": {},
   "outputs": [
    {
     "data": {
      "text/plain": [
       "15"
      ]
     },
     "execution_count": 102,
     "metadata": {},
     "output_type": "execute_result"
    }
   ],
   "source": [
    "len(name)"
   ]
  },
  {
   "cell_type": "markdown",
   "id": "e2b20e69-89d1-48fb-940e-51b7523daba3",
   "metadata": {},
   "source": [
    "# slicing"
   ]
  },
  {
   "cell_type": "code",
   "execution_count": 104,
   "id": "6288d7a6-7585-4a61-8a0e-5c5347ac9fc6",
   "metadata": {},
   "outputs": [
    {
     "name": "stdout",
     "output_type": "stream",
     "text": [
      "mich\n"
     ]
    }
   ],
   "source": [
    "print(name[0:4])"
   ]
  },
  {
   "cell_type": "code",
   "execution_count": 105,
   "id": "77c06855-6f02-445c-8784-0672d12a0f14",
   "metadata": {},
   "outputs": [
    {
     "name": "stdout",
     "output_type": "stream",
     "text": [
      "jaks\n"
     ]
    }
   ],
   "source": [
    "print(name[8:12])"
   ]
  },
  {
   "cell_type": "markdown",
   "id": "068b5b79-e251-4d5c-b64d-ca4675daef72",
   "metadata": {},
   "source": [
    "# Stride\n",
    " ### Get every fourth element"
   ]
  },
  {
   "cell_type": "code",
   "execution_count": 107,
   "id": "bc73195d-bed9-428c-80d1-b28056c9009f",
   "metadata": {},
   "outputs": [
    {
     "name": "stdout",
     "output_type": "stream",
     "text": [
      "mejo\n"
     ]
    }
   ],
   "source": [
    "print(name[::4])"
   ]
  },
  {
   "cell_type": "markdown",
   "id": "13fc8228-4a2a-49f1-a360-fbef09e377ba",
   "metadata": {},
   "source": [
    " ### Get every second element in the range from index 0 to index 4"
   ]
  },
  {
   "cell_type": "code",
   "execution_count": 108,
   "id": "ec3857df-6622-451e-a14f-356c26562c2e",
   "metadata": {},
   "outputs": [
    {
     "name": "stdout",
     "output_type": "stream",
     "text": [
      "mce\n"
     ]
    }
   ],
   "source": [
    "print(name[0:5:2])"
   ]
  },
  {
   "cell_type": "markdown",
   "id": "ceabc6b7-4882-4837-bd68-16e9a90a169b",
   "metadata": {},
   "source": [
    "# Concatenate Strings\n",
    " ### Concatenate two strings"
   ]
  },
  {
   "cell_type": "code",
   "execution_count": 112,
   "id": "3cf94d33-ead7-4a9c-a433-717f97356c23",
   "metadata": {},
   "outputs": [
    {
     "name": "stdout",
     "output_type": "stream",
     "text": [
      "micheal jakson!is the best\n"
     ]
    }
   ],
   "source": [
    "statement= name + \"is the best\"\n",
    "print(statement)"
   ]
  },
  {
   "cell_type": "code",
   "execution_count": 113,
   "id": "4a9e744e-4ae1-4339-b85d-c22ea6f1075e",
   "metadata": {},
   "outputs": [
    {
     "name": "stdout",
     "output_type": "stream",
     "text": [
      "micheal jakson!is the bestmicheal jakson!is the bestmicheal jakson!is the best\n"
     ]
    }
   ],
   "source": [
    "print(3*statement)"
   ]
  },
  {
   "cell_type": "markdown",
   "id": "44d87ab4-318c-493c-8110-86cc0588cc9d",
   "metadata": {},
   "source": [
    "# Escape Sequences"
   ]
  },
  {
   "cell_type": "markdown",
   "id": "0efe324a-168a-41a8-971f-946a2e30ae4d",
   "metadata": {},
   "source": [
    "## New line escape sequence"
   ]
  },
  {
   "cell_type": "code",
   "execution_count": 114,
   "id": "a6e9a73f-0f21-4303-90b0-906e55d77516",
   "metadata": {},
   "outputs": [
    {
     "name": "stdout",
     "output_type": "stream",
     "text": [
      " Michael Jackson \n",
      " is the best\n"
     ]
    }
   ],
   "source": [
    "print(\" Michael Jackson \\n is the best\" )"
   ]
  },
  {
   "cell_type": "markdown",
   "id": "339d7da4-a6bd-4460-8711-09b40e9e952c",
   "metadata": {},
   "source": [
    "# Tab escape sequence\n"
   ]
  },
  {
   "cell_type": "code",
   "execution_count": 115,
   "id": "bedc54d3-14d2-4aea-acfe-109cd241bbcd",
   "metadata": {},
   "outputs": [
    {
     "name": "stdout",
     "output_type": "stream",
     "text": [
      " Michael Jackson \t is the best\n"
     ]
    }
   ],
   "source": [
    "print(\" Michael Jackson \\t is the best\" )"
   ]
  },
  {
   "cell_type": "markdown",
   "id": "3216d4ff-1b24-4446-881c-24f068d727a4",
   "metadata": {},
   "source": [
    "# Include back slash in string"
   ]
  },
  {
   "cell_type": "code",
   "execution_count": 117,
   "id": "2f9073ea-d9d8-46ad-9f63-aeb45f734f08",
   "metadata": {},
   "outputs": [
    {
     "name": "stdout",
     "output_type": "stream",
     "text": [
      " Michael Jackson \\ is the best\n"
     ]
    }
   ],
   "source": [
    "print(\" Michael Jackson \\\\ is the best\" )"
   ]
  },
  {
   "cell_type": "markdown",
   "id": "36e510be-2cf6-4314-b98c-40b2b1f4e7f9",
   "metadata": {},
   "source": [
    "# r will tell python that string will be display as raw string"
   ]
  },
  {
   "cell_type": "code",
   "execution_count": 118,
   "id": "94c3c72e-5e1e-4b8a-ae29-0058a0b99fa7",
   "metadata": {},
   "outputs": [
    {
     "name": "stdout",
     "output_type": "stream",
     "text": [
      " Michael Jackson \\ is the best\n"
     ]
    }
   ],
   "source": [
    "print(r\" Michael Jackson \\ is the best\" )"
   ]
  },
  {
   "cell_type": "markdown",
   "id": "4df816a6-25aa-4eaa-87a5-55954155b1a3",
   "metadata": {},
   "source": [
    " # String Manipulation Operations"
   ]
  },
  {
   "cell_type": "markdown",
   "id": "4a7cee1c-c6b2-4f18-a9e6-009a31871218",
   "metadata": {},
   "source": [
    "### Convert all the characters in string to upper case"
   ]
  },
  {
   "cell_type": "code",
   "execution_count": 1,
   "id": "a725454a-8b2b-4080-856e-e0cf119de21f",
   "metadata": {},
   "outputs": [
    {
     "name": "stdout",
     "output_type": "stream",
     "text": [
      "before upper: rahul\n",
      "After upper: RAHUL\n"
     ]
    }
   ],
   "source": [
    "a= \"rahul\"\n",
    "print(\"before upper:\", a)\n",
    "b = a.upper()\n",
    "print(\"After upper:\", b)"
   ]
  },
  {
   "cell_type": "markdown",
   "id": "b8c4f50c-1616-4402-b940-e08964bd725c",
   "metadata": {},
   "source": [
    "# Replace the old substring with the new target substring is the segment has been found in the string"
   ]
  },
  {
   "cell_type": "code",
   "execution_count": 13,
   "id": "eebb2457-293c-4b76-a029-7103b31b9d7b",
   "metadata": {},
   "outputs": [
    {
     "name": "stdout",
     "output_type": "stream",
     "text": [
      "NEHA IS THE BEST\n"
     ]
    }
   ],
   "source": [
    "a= \"RAHUL IS THE BEST\"\n",
    "b= a.replace('RAHUL','NEHA')\n",
    "print(b)"
   ]
  },
  {
   "cell_type": "markdown",
   "id": "2a8021dc-1ca3-482c-8680-ed096dbdd01e",
   "metadata": {},
   "source": [
    "# The method find finds a sub-string. The argument is the substring you would like to find, and the output is the first index of the sequence. We can find the sub-string jack or el."
   ]
  },
  {
   "cell_type": "code",
   "execution_count": 30,
   "id": "3599209f-b84f-4d39-bbf2-be55aff9ce2d",
   "metadata": {},
   "outputs": [
    {
     "data": {
      "text/plain": [
       "5"
      ]
     },
     "execution_count": 30,
     "metadata": {},
     "output_type": "execute_result"
    }
   ],
   "source": [
    "name = \"Michael Jackson\"\n",
    "name.find('el')"
   ]
  },
  {
   "cell_type": "code",
   "execution_count": 32,
   "id": "a561d1f3-9971-4c8a-bcf0-7f2028705546",
   "metadata": {},
   "outputs": [
    {
     "data": {
      "text/plain": [
       "8"
      ]
     },
     "execution_count": 32,
     "metadata": {},
     "output_type": "execute_result"
    }
   ],
   "source": [
    "name = \"Michael Jackson\"\n",
    "name.find('Jack')"
   ]
  },
  {
   "cell_type": "code",
   "execution_count": 26,
   "id": "9e2c5772-bc02-45ab-b494-13e9f3b00d60",
   "metadata": {},
   "outputs": [
    {
     "data": {
      "text/plain": [
       "2"
      ]
     },
     "execution_count": 26,
     "metadata": {},
     "output_type": "execute_result"
    }
   ],
   "source": [
    "name =\"rahul rajput\"\n",
    "name.find('hu')"
   ]
  },
  {
   "cell_type": "markdown",
   "id": "624f6dc3-f9a0-4534-8fe2-812b926d177b",
   "metadata": {},
   "source": [
    "# If the sub-string is not in the string then the output is a negative one. For example, the string 'Jasdfasdasdf' is not a substring:"
   ]
  },
  {
   "cell_type": "markdown",
   "id": "bb954a22-9f90-4365-98b9-a1c13e7fe6da",
   "metadata": {},
   "source": [
    "name = \"Michael Jackson\"\n",
    "name.find('Jasdfasdasdf')"
   ]
  },
  {
   "cell_type": "code",
   "execution_count": 35,
   "id": "01b66a73-8793-4a1c-b364-83f0fc15a311",
   "metadata": {},
   "outputs": [],
   "source": [
    "import re"
   ]
  },
  {
   "cell_type": "markdown",
   "id": "e071004f-fd04-4f00-8b42-0fac351ec63a",
   "metadata": {},
   "source": [
    "# The search() function searches for specified patterns within a string. Here is an example that explains how to use the search() function to search for the word \"Jackson\" in the string \"Michael Jackson is the best\""
   ]
  },
  {
   "cell_type": "code",
   "execution_count": 38,
   "id": "93861abb-42e2-47cc-aa9c-cbbe20cdf1d2",
   "metadata": {},
   "outputs": [
    {
     "name": "stdout",
     "output_type": "stream",
     "text": [
      "<re.Match object; span=(8, 15), match='Jackson'>\n"
     ]
    }
   ],
   "source": [
    "s1 = \"Michael Jackson is the best\"\n",
    "pattern = r\"Jackson\"\n",
    "result = re.search(pattern, s1)\n",
    "print(result)"
   ]
  },
  {
   "cell_type": "markdown",
   "id": "105c974e-c3d7-4b70-aaa6-dac3146c0fc2",
   "metadata": {},
   "source": [
    " # Quiz on Strings"
   ]
  },
  {
   "cell_type": "markdown",
   "id": "a1099ebb-55e0-49f6-8bda-bea0617575b9",
   "metadata": {},
   "source": [
    " ## What is the value of the variable \"___a___\" after the following code is executed?"
   ]
  },
  {
   "cell_type": "code",
   "execution_count": 46,
   "id": "a31ba7bb-ee40-4f81-be0c-c1487c52b3c1",
   "metadata": {},
   "outputs": [
    {
     "data": {
      "text/plain": [
       "str"
      ]
     },
     "execution_count": 46,
     "metadata": {},
     "output_type": "execute_result"
    }
   ],
   "source": [
    "a=\"1\"\n",
    "type(a)"
   ]
  },
  {
   "cell_type": "code",
   "execution_count": 47,
   "id": "5db27fde-4517-4a17-8bfc-e9e2ff1d1ef5",
   "metadata": {},
   "outputs": [
    {
     "name": "stdout",
     "output_type": "stream",
     "text": [
      "1\n"
     ]
    }
   ],
   "source": [
    "print(a)"
   ]
  },
  {
   "cell_type": "code",
   "execution_count": 50,
   "id": "a48f5c22-f523-4037-948d-daa9bf883165",
   "metadata": {},
   "outputs": [
    {
     "data": {
      "text/plain": [
       "str"
      ]
     },
     "execution_count": 50,
     "metadata": {},
     "output_type": "execute_result"
    }
   ],
   "source": [
    "b=\"2\"\n",
    "type(b)"
   ]
  },
  {
   "cell_type": "code",
   "execution_count": 51,
   "id": "d3445beb-0015-4530-b848-292ee9785d94",
   "metadata": {},
   "outputs": [
    {
     "name": "stdout",
     "output_type": "stream",
     "text": [
      "2\n"
     ]
    }
   ],
   "source": [
    "print(b)"
   ]
  },
  {
   "cell_type": "markdown",
   "id": "d55a2b64-2800-4ce0-a74f-beecb16bfdf3",
   "metadata": {},
   "source": [
    " # What is the value of the variable c after the following code is executed?"
   ]
  },
  {
   "cell_type": "code",
   "execution_count": 55,
   "id": "0b56e070-6018-4d48-b7d7-a79a977f084b",
   "metadata": {},
   "outputs": [
    {
     "name": "stdout",
     "output_type": "stream",
     "text": [
      "12\n"
     ]
    }
   ],
   "source": [
    "c= a+b\n",
    "print(c)"
   ]
  },
  {
   "cell_type": "markdown",
   "id": "0b08c5f9-f2ca-4611-b90b-cdaa6e1599ca",
   "metadata": {},
   "source": [
    "# Consider the variable d use slicing to print out the first three elements:"
   ]
  },
  {
   "cell_type": "code",
   "execution_count": 56,
   "id": "faf07cd3-56b1-4d99-ad50-fc16e21d337b",
   "metadata": {},
   "outputs": [
    {
     "name": "stdout",
     "output_type": "stream",
     "text": [
      "ABC\n"
     ]
    }
   ],
   "source": [
    "d = \"ABCDEFG\"\n",
    "print(d[:3])"
   ]
  },
  {
   "cell_type": "code",
   "execution_count": 57,
   "id": "91b91f70-1ebc-471e-a0a6-c51485687f3c",
   "metadata": {},
   "outputs": [
    {
     "name": "stdout",
     "output_type": "stream",
     "text": [
      "ABC\n"
     ]
    }
   ],
   "source": [
    "d = \"ABCDEFG\"\n",
    "print(d[0:3])"
   ]
  },
  {
   "cell_type": "markdown",
   "id": "3f0ffeb9-a5b7-4e73-a48a-24c964a42118",
   "metadata": {},
   "source": [
    "# Use a stride value of 2 to print out every second character of the string e:"
   ]
  },
  {
   "cell_type": "code",
   "execution_count": 58,
   "id": "fdb82f3e-048d-47cf-9175-879a3c156c2a",
   "metadata": {},
   "outputs": [
    {
     "name": "stdout",
     "output_type": "stream",
     "text": [
      "correct\n"
     ]
    }
   ],
   "source": [
    "e = 'clocrkr1e1c1t'\n",
    "print(e[::2])"
   ]
  },
  {
   "cell_type": "markdown",
   "id": "c5a46d8f-3642-417a-a3cf-7c627017e9fd",
   "metadata": {},
   "source": [
    "# Convert the variable f to uppercase:"
   ]
  },
  {
   "cell_type": "code",
   "execution_count": 68,
   "id": "0badb21b-3e91-4f4a-9dd5-64b0d326f7aa",
   "metadata": {},
   "outputs": [
    {
     "name": "stdout",
     "output_type": "stream",
     "text": [
      "before upper You are wrong\n",
      "after upper YOU ARE WRONG\n"
     ]
    }
   ],
   "source": [
    " f = \"You are wrong\"\n",
    "print(\"before upper\",f)\n",
    " b =f.upper()\n",
    "print(\"after upper\",b)"
   ]
  },
  {
   "cell_type": "markdown",
   "id": "e53f8f46-70a5-4cd1-b1b3-7bea4f9e54b5",
   "metadata": {},
   "source": [
    "# Convert the variable f2 to lowercase:"
   ]
  },
  {
   "cell_type": "code",
   "execution_count": 69,
   "id": "61aaf2b9-4d7c-4d9d-9223-d312559dd3f8",
   "metadata": {},
   "outputs": [
    {
     "name": "stdout",
     "output_type": "stream",
     "text": [
      "befor lower YOU ARE RIGHT\n",
      "after lower you are right\n"
     ]
    }
   ],
   "source": [
    "f2=\"YOU ARE RIGHT\"\n",
    "print(\"befor lower\",f2)\n",
    "n=f2.lower()\n",
    "print(\"after lower\",n)"
   ]
  },
  {
   "cell_type": "markdown",
   "id": "d35c34d9-5237-4db9-9301-91f9c6d45f68",
   "metadata": {},
   "source": [
    "# Consider the variable g, and find the first index of the sub-string snow:"
   ]
  },
  {
   "cell_type": "code",
   "execution_count": 75,
   "id": "7d8a5b2c-3398-4c0d-89ec-cf559b4c0521",
   "metadata": {},
   "outputs": [
    {
     "data": {
      "text/plain": [
       "95"
      ]
     },
     "execution_count": 75,
     "metadata": {},
     "output_type": "execute_result"
    }
   ],
   "source": [
    "g = \"Mary had a little lamb Little lamb, little lamb Mary had a little lamb \\\n",
    "Its fleece was white as snow And everywhere that Mary went Mary went, Mary went \\\n",
    "Everywhere that Mary went The lamb was sure to go\"\n",
    "g.find(\"snow\")"
   ]
  },
  {
   "cell_type": "code",
   "execution_count": 83,
   "id": "5688303a-f88b-4410-b099-7c6f986eae1e",
   "metadata": {},
   "outputs": [
    {
     "name": "stdout",
     "output_type": "stream",
     "text": [
      "bob had a little lamb Little lamb, little lamb bob had a little lamb Its fleece was white as snow And everywhere that bob went bob went, bob went Everywhere that bob went The lamb was sure to go\n"
     ]
    }
   ],
   "source": [
    "b = g.replace(\"Mary\",\"bob\")\n",
    "print(b)"
   ]
  },
  {
   "cell_type": "code",
   "execution_count": 85,
   "id": "1addbde9-6e00-434a-b10c-1f453bc0456a",
   "metadata": {},
   "outputs": [
    {
     "name": "stdout",
     "output_type": "stream",
     "text": [
      "['Mary', 'had', 'a', 'little', 'lamb', 'Little', 'lamb,', 'little', 'lamb', 'Mary', 'had', 'a', 'little', 'lamb', 'Its', 'fleece', 'was', 'white', 'as', 'snow', 'And', 'everywhere', 'that', 'Mary', 'went', 'Mary', 'went,', 'Mary', 'went', 'Everywhere', 'that', 'Mary', 'went', 'The', 'lamb', 'was', 'sure', 'to', 'go']\n"
     ]
    }
   ],
   "source": [
    "n=g.split()\n",
    "print(n)"
   ]
  },
  {
   "cell_type": "markdown",
   "id": "bc59cd3e-64a3-4b1b-b8ac-767f5446e572",
   "metadata": {},
   "source": [
    "# In the string str1, replace the sub-string fox with bear using sub() function:"
   ]
  },
  {
   "cell_type": "code",
   "execution_count": 93,
   "id": "e9c2d572-806a-4453-aa16-b5164ebf7b7e",
   "metadata": {},
   "outputs": [
    {
     "name": "stdout",
     "output_type": "stream",
     "text": [
      "The quick brown bear jumps over the lazy dog.\n"
     ]
    }
   ],
   "source": [
    "str1= \"The quick brown fox jumps over the lazy dog.\"\n",
    "new_str1 = re.sub(r\"fox\", \"bear\", str1)\n",
    "print(new_str1)"
   ]
  },
  {
   "cell_type": "markdown",
   "id": "07f70363-13a0-491e-8792-82f1de823d74",
   "metadata": {},
   "source": [
    "# In the string str2 find all the occurrences of woo using findall() function:"
   ]
  },
  {
   "cell_type": "code",
   "execution_count": 96,
   "id": "dae1c45a-d3cf-48b6-81f9-d16909c0113b",
   "metadata": {},
   "outputs": [
    {
     "name": "stdout",
     "output_type": "stream",
     "text": [
      "['woo', 'woo', 'woo', 'woo']\n"
     ]
    }
   ],
   "source": [
    "str2= \"How much wood would a woodchuck chuck, if a woodchuck could chuck wood?\"\n",
    "matches = re.findall(r\"woo\", str2)\n",
    "print(matches)"
   ]
  },
  {
   "cell_type": "code",
   "execution_count": null,
   "id": "27b01a0d-04bc-400b-bdc7-762b44800659",
   "metadata": {},
   "outputs": [],
   "source": []
  }
 ],
 "metadata": {
  "kernelspec": {
   "display_name": "Python 3 (ipykernel)",
   "language": "python",
   "name": "python3"
  },
  "language_info": {
   "codemirror_mode": {
    "name": "ipython",
    "version": 3
   },
   "file_extension": ".py",
   "mimetype": "text/x-python",
   "name": "python",
   "nbconvert_exporter": "python",
   "pygments_lexer": "ipython3",
   "version": "3.12.4"
  }
 },
 "nbformat": 4,
 "nbformat_minor": 5
}
